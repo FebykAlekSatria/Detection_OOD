{
 "cells": [
  {
   "cell_type": "code",
   "execution_count": 1,
   "metadata": {},
   "outputs": [],
   "source": [
    "import pandas as pd\n",
    "import re\n",
    "import nltk\n",
    "from Sastrawi.Stemmer.StemmerFactory import StemmerFactory\n",
    "import swifter"
   ]
  },
  {
   "cell_type": "markdown",
   "metadata": {},
   "source": [
    "Import Dataset CSV with Pandas"
   ]
  },
  {
   "cell_type": "code",
   "execution_count": 33,
   "metadata": {},
   "outputs": [],
   "source": [
    "df = pd.read_csv(\"Dataset\\dataset_siap.csv\")\n",
    "# print(df)"
   ]
  },
  {
   "cell_type": "markdown",
   "metadata": {},
   "source": [
    "Lower Case with Pandas"
   ]
  },
  {
   "cell_type": "code",
   "execution_count": 34,
   "metadata": {},
   "outputs": [
    {
     "name": "stdout",
     "output_type": "stream",
     "text": [
      "                                               Kalimat Kelas\n",
      "0         tampilkan kartu hasil studi untuk semester 1   id \n",
      "1         tampilkan kartu hasil studi untuk semester 2   id \n",
      "2         tampilkan kartu hasil studi untuk semester 3   id \n",
      "3         tampilkan kartu hasil studi untuk semester 4   id \n",
      "4         tampilkan kartu hasil studi untuk semester 5   id \n",
      "..                                                 ...   ...\n",
      "325  apa yang menjadi alasan/landasan anda dalam me...   ood\n",
      "326           seberapa penting bisa berbahasa inggris?   ood\n",
      "327     kapan tere liye menerbitkan buku pertama kali?   ood\n",
      "328                         mengapa kita perlu minum ?   ood\n",
      "329         siapa penulis puisi pada suatu hari nanti?   ood\n",
      "\n",
      "[330 rows x 2 columns]\n"
     ]
    }
   ],
   "source": [
    "df = df.astype(str).apply(lambda x: x.str.lower())\n",
    "print(df)"
   ]
  },
  {
   "cell_type": "markdown",
   "metadata": {},
   "source": [
    "Remove Puncutuation"
   ]
  },
  {
   "cell_type": "code",
   "execution_count": 36,
   "metadata": {},
   "outputs": [],
   "source": [
    "clean_spcl = re.compile('[/(){}\\[\\]\\|@,;]')\n",
    "clean_symbol = re.compile('[^0-9a-z]')\n",
    "def clean_punct(text):\n",
    "    text = clean_spcl.sub('', text)\n",
    "    text = clean_symbol.sub(' ', text)\n",
    "    return text\n",
    "\n",
    "df['Kalimat']= df['Kalimat'].apply(clean_punct)\n"
   ]
  },
  {
   "cell_type": "markdown",
   "metadata": {},
   "source": [
    "Tekonize with NLTK"
   ]
  },
  {
   "cell_type": "code",
   "execution_count": 39,
   "metadata": {},
   "outputs": [
    {
     "name": "stdout",
     "output_type": "stream",
     "text": [
      "                                               Kalimat Kelas\n",
      "0    [tampilkan, kartu, hasil, studi, untuk, semest...   id \n",
      "1    [tampilkan, kartu, hasil, studi, untuk, semest...   id \n",
      "2    [tampilkan, kartu, hasil, studi, untuk, semest...   id \n",
      "3    [tampilkan, kartu, hasil, studi, untuk, semest...   id \n",
      "4    [tampilkan, kartu, hasil, studi, untuk, semest...   id \n",
      "..                                                 ...   ...\n",
      "325  [apa, yang, menjadi, alasanlandasan, anda, dal...   ood\n",
      "326      [seberapa, penting, bisa, berbahasa, inggris]   ood\n",
      "327  [kapan, tere, liye, menerbitkan, buku, pertama...   ood\n",
      "328                      [mengapa, kita, perlu, minum]   ood\n",
      "329  [siapa, penulis, puisi, pada, suatu, hari, nanti]   ood\n",
      "\n",
      "[330 rows x 2 columns]\n"
     ]
    }
   ],
   "source": [
    "df['Kalimat'] = df.apply(lambda row: nltk.word_tokenize(row['Kalimat']), axis=1)\n",
    "print(df)"
   ]
  },
  {
   "cell_type": "markdown",
   "metadata": {},
   "source": [
    "Stopwords with NLTK"
   ]
  },
  {
   "cell_type": "code",
   "execution_count": 40,
   "metadata": {},
   "outputs": [],
   "source": [
    "from nltk.corpus import stopwords\n",
    "list_stopwords = stopwords.words('indonesian')\n",
    "\n",
    "def stopwords_removal(words):\n",
    "    return [word for word in words if word not in list_stopwords]\n",
    "\n",
    "df['Kalimat'] = df['Kalimat'].apply(stopwords_removal)"
   ]
  },
  {
   "cell_type": "markdown",
   "metadata": {},
   "source": [
    "Stemming with Sastrawi"
   ]
  },
  {
   "cell_type": "code",
   "execution_count": 52,
   "metadata": {},
   "outputs": [
    {
     "name": "stdout",
     "output_type": "stream",
     "text": [
      "                                        Kalimat Kelas\n",
      "0    [tampil, kartu, hasil, studi, semester, 1]   id \n",
      "1    [tampil, kartu, hasil, studi, semester, 2]   id \n",
      "2    [tampil, kartu, hasil, studi, semester, 3]   id \n",
      "3    [tampil, kartu, hasil, studi, semester, 4]   id \n",
      "4    [tampil, kartu, hasil, studi, semester, 5]   id \n",
      "..                                          ...   ...\n",
      "325                   [alasanlandasan, chatbot]   ood\n",
      "326                           [bahasa, inggris]   ood\n",
      "327            [tere, liye, terbit, buku, kali]   ood\n",
      "328                                     [minum]   ood\n",
      "329                              [tulis, puisi]   ood\n",
      "\n",
      "[330 rows x 2 columns]\n"
     ]
    }
   ],
   "source": [
    "factory = StemmerFactory()\n",
    "stemmer = factory.create_stemmer()\n",
    "\n",
    "def stemmed_wrapper(term):\n",
    "    return stemmer.stem(term)\n",
    "term_dict = {}\n",
    "\n",
    "for document in df['Kalimat']:\n",
    "    for term in document:\n",
    "        if term not in term_dict:\n",
    "            term_dict[term] = ' '\n",
    "            \n",
    "for term in term_dict:\n",
    "    term_dict[term] = stemmed_wrapper(term)\n",
    "\n",
    "print(df)\n"
   ]
  },
  {
   "cell_type": "markdown",
   "metadata": {},
   "source": []
  }
 ],
 "metadata": {
  "interpreter": {
   "hash": "b866c9af37e3fc182ad1b565e105f522249500a88b3f7cad02afa4b0a4f7a3a4"
  },
  "kernelspec": {
   "display_name": "Python 3.9.6 64-bit",
   "language": "python",
   "name": "python3"
  },
  "language_info": {
   "codemirror_mode": {
    "name": "ipython",
    "version": 3
   },
   "file_extension": ".py",
   "mimetype": "text/x-python",
   "name": "python",
   "nbconvert_exporter": "python",
   "pygments_lexer": "ipython3",
   "version": "3.8.8"
  },
  "orig_nbformat": 4
 },
 "nbformat": 4,
 "nbformat_minor": 2
}
